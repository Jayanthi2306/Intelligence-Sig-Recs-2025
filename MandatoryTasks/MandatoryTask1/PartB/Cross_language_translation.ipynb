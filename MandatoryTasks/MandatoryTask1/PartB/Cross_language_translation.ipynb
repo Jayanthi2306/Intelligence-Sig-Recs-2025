{
  "nbformat": 4,
  "nbformat_minor": 0,
  "metadata": {
    "colab": {
      "provenance": [],
      "gpuType": "T4"
    },
    "kernelspec": {
      "name": "python3",
      "display_name": "Python 3"
    },
    "language_info": {
      "name": "python"
    },
    "accelerator": "GPU"
  },
  "cells": [
    {
      "cell_type": "markdown",
      "source": [
        "I am using MBart50 pretrained model which has 50 diferent languages."
      ],
      "metadata": {
        "id": "Y2TRBRzcOavI"
      }
    },
    {
      "cell_type": "code",
      "source": [
        "!pip install transformers datasets sentencepiece torch"
      ],
      "metadata": {
        "id": "CA4K8oQnObV8"
      },
      "execution_count": null,
      "outputs": []
    },
    {
      "cell_type": "markdown",
      "source": [
        "Loading the model and tokenizer"
      ],
      "metadata": {
        "id": "EeMDdOCdPes1"
      }
    },
    {
      "cell_type": "code",
      "execution_count": 2,
      "metadata": {
        "id": "Joed4sGtMzmf"
      },
      "outputs": [],
      "source": [
        "\n",
        "\n",
        "from transformers import MBartForConditionalGeneration, MBart50TokenizerFast\n",
        "from datasets import load_dataset\n",
        "import random\n",
        "\n",
        "model_name = \"facebook/mbart-large-50-many-to-many-mmt\"\n",
        "tokenizer = MBart50TokenizerFast.from_pretrained(model_name)\n",
        "model = MBartForConditionalGeneration.from_pretrained(model_name)\n",
        "\n"
      ]
    },
    {
      "cell_type": "markdown",
      "source": [
        "selecting source language as english and translatin languages as french and hindi."
      ],
      "metadata": {
        "id": "bDT0ezh5Or86"
      }
    },
    {
      "cell_type": "code",
      "source": [
        "src_lang = \"en_XX\"\n",
        "target_langs = [\"fr_XX\", \"hi_IN\"]"
      ],
      "metadata": {
        "id": "1K3WGAAIOre9"
      },
      "execution_count": null,
      "outputs": []
    },
    {
      "cell_type": "markdown",
      "source": [
        "i am using english news dataset and also taking only first 5 samples to convert."
      ],
      "metadata": {
        "id": "_ukp13rEO6vg"
      }
    },
    {
      "cell_type": "code",
      "source": [
        "dataset = load_dataset(\"ag_news\", split=\"train\")\n",
        "texts = [item[\"text\"] for item in dataset.select(range(5))]"
      ],
      "metadata": {
        "id": "s2jJC8a3O6d1"
      },
      "execution_count": null,
      "outputs": []
    },
    {
      "cell_type": "markdown",
      "source": [
        "Function to translate english to french and hindi."
      ],
      "metadata": {
        "id": "E5HoS0E6PNtk"
      }
    },
    {
      "cell_type": "code",
      "source": [
        "def translate_text(text, src_lang, tgt_lang):\n",
        "    tokenizer.src_lang = src_lang\n",
        "    encoded = tokenizer(text, return_tensors=\"pt\", truncation=True, max_length=512)\n",
        "    generated_tokens = model.generate(\n",
        "        **encoded,\n",
        "        forced_bos_token_id=tokenizer.lang_code_to_id[tgt_lang],\n",
        "        max_length=512\n",
        "    )\n",
        "    translated_text = tokenizer.batch_decode(generated_tokens, skip_special_tokens=True)[0]\n",
        "    return translated_text"
      ],
      "metadata": {
        "id": "wPgDlAz0PNg1"
      },
      "execution_count": null,
      "outputs": []
    },
    {
      "cell_type": "markdown",
      "source": [
        "I am converting the 5 samples."
      ],
      "metadata": {
        "id": "zl0uwJKNPTO8"
      }
    },
    {
      "cell_type": "code",
      "source": [
        "for idx, text in enumerate(texts):\n",
        "    print(f\"\\n Original English Text {idx+1}:\")\n",
        "    print(text)\n",
        "    for tgt_lang in target_langs:\n",
        "        translation = translate_text(text, src_lang, tgt_lang)\n",
        "        print(f\"\\n Translation ({tgt_lang}):\")\n",
        "        print(translation)"
      ],
      "metadata": {
        "id": "GD3jc27-PTCe"
      },
      "execution_count": null,
      "outputs": []
    }
  ]
}