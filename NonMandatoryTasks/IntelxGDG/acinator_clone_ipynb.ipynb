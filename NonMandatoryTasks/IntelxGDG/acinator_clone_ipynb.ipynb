{
  "nbformat": 4,
  "nbformat_minor": 0,
  "metadata": {
    "colab": {
      "provenance": [],
      "gpuType": "T4"
    },
    "kernelspec": {
      "name": "python3",
      "display_name": "Python 3"
    },
    "language_info": {
      "name": "python"
    },
    "accelerator": "GPU"
  },
  "cells": [
    {
      "cell_type": "code",
      "source": [
        "!pip install datasets scikit-learn pandas numpy joblib\n"
      ],
      "metadata": {
        "colab": {
          "base_uri": "https://localhost:8080/"
        },
        "id": "7fevWFn5LlB7",
        "outputId": "42283be8-ff82-4111-bec9-6e55339ac38f"
      },
      "execution_count": 9,
      "outputs": [
        {
          "output_type": "stream",
          "name": "stdout",
          "text": [
            "Requirement already satisfied: datasets in /usr/local/lib/python3.12/dist-packages (4.0.0)\n",
            "Requirement already satisfied: scikit-learn in /usr/local/lib/python3.12/dist-packages (1.6.1)\n",
            "Requirement already satisfied: pandas in /usr/local/lib/python3.12/dist-packages (2.2.2)\n",
            "Requirement already satisfied: numpy in /usr/local/lib/python3.12/dist-packages (2.0.2)\n",
            "Requirement already satisfied: joblib in /usr/local/lib/python3.12/dist-packages (1.5.2)\n",
            "Requirement already satisfied: filelock in /usr/local/lib/python3.12/dist-packages (from datasets) (3.20.0)\n",
            "Requirement already satisfied: pyarrow>=15.0.0 in /usr/local/lib/python3.12/dist-packages (from datasets) (18.1.0)\n",
            "Requirement already satisfied: dill<0.3.9,>=0.3.0 in /usr/local/lib/python3.12/dist-packages (from datasets) (0.3.8)\n",
            "Requirement already satisfied: requests>=2.32.2 in /usr/local/lib/python3.12/dist-packages (from datasets) (2.32.4)\n",
            "Requirement already satisfied: tqdm>=4.66.3 in /usr/local/lib/python3.12/dist-packages (from datasets) (4.67.1)\n",
            "Requirement already satisfied: xxhash in /usr/local/lib/python3.12/dist-packages (from datasets) (3.6.0)\n",
            "Requirement already satisfied: multiprocess<0.70.17 in /usr/local/lib/python3.12/dist-packages (from datasets) (0.70.16)\n",
            "Requirement already satisfied: fsspec<=2025.3.0,>=2023.1.0 in /usr/local/lib/python3.12/dist-packages (from fsspec[http]<=2025.3.0,>=2023.1.0->datasets) (2025.3.0)\n",
            "Requirement already satisfied: huggingface-hub>=0.24.0 in /usr/local/lib/python3.12/dist-packages (from datasets) (0.35.3)\n",
            "Requirement already satisfied: packaging in /usr/local/lib/python3.12/dist-packages (from datasets) (25.0)\n",
            "Requirement already satisfied: pyyaml>=5.1 in /usr/local/lib/python3.12/dist-packages (from datasets) (6.0.3)\n",
            "Requirement already satisfied: scipy>=1.6.0 in /usr/local/lib/python3.12/dist-packages (from scikit-learn) (1.16.2)\n",
            "Requirement already satisfied: threadpoolctl>=3.1.0 in /usr/local/lib/python3.12/dist-packages (from scikit-learn) (3.6.0)\n",
            "Requirement already satisfied: python-dateutil>=2.8.2 in /usr/local/lib/python3.12/dist-packages (from pandas) (2.9.0.post0)\n",
            "Requirement already satisfied: pytz>=2020.1 in /usr/local/lib/python3.12/dist-packages (from pandas) (2025.2)\n",
            "Requirement already satisfied: tzdata>=2022.7 in /usr/local/lib/python3.12/dist-packages (from pandas) (2025.2)\n",
            "Requirement already satisfied: aiohttp!=4.0.0a0,!=4.0.0a1 in /usr/local/lib/python3.12/dist-packages (from fsspec[http]<=2025.3.0,>=2023.1.0->datasets) (3.13.1)\n",
            "Requirement already satisfied: typing-extensions>=3.7.4.3 in /usr/local/lib/python3.12/dist-packages (from huggingface-hub>=0.24.0->datasets) (4.15.0)\n",
            "Requirement already satisfied: hf-xet<2.0.0,>=1.1.3 in /usr/local/lib/python3.12/dist-packages (from huggingface-hub>=0.24.0->datasets) (1.1.10)\n",
            "Requirement already satisfied: six>=1.5 in /usr/local/lib/python3.12/dist-packages (from python-dateutil>=2.8.2->pandas) (1.17.0)\n",
            "Requirement already satisfied: charset_normalizer<4,>=2 in /usr/local/lib/python3.12/dist-packages (from requests>=2.32.2->datasets) (3.4.4)\n",
            "Requirement already satisfied: idna<4,>=2.5 in /usr/local/lib/python3.12/dist-packages (from requests>=2.32.2->datasets) (3.11)\n",
            "Requirement already satisfied: urllib3<3,>=1.21.1 in /usr/local/lib/python3.12/dist-packages (from requests>=2.32.2->datasets) (2.5.0)\n",
            "Requirement already satisfied: certifi>=2017.4.17 in /usr/local/lib/python3.12/dist-packages (from requests>=2.32.2->datasets) (2025.10.5)\n",
            "Requirement already satisfied: aiohappyeyeballs>=2.5.0 in /usr/local/lib/python3.12/dist-packages (from aiohttp!=4.0.0a0,!=4.0.0a1->fsspec[http]<=2025.3.0,>=2023.1.0->datasets) (2.6.1)\n",
            "Requirement already satisfied: aiosignal>=1.4.0 in /usr/local/lib/python3.12/dist-packages (from aiohttp!=4.0.0a0,!=4.0.0a1->fsspec[http]<=2025.3.0,>=2023.1.0->datasets) (1.4.0)\n",
            "Requirement already satisfied: attrs>=17.3.0 in /usr/local/lib/python3.12/dist-packages (from aiohttp!=4.0.0a0,!=4.0.0a1->fsspec[http]<=2025.3.0,>=2023.1.0->datasets) (25.4.0)\n",
            "Requirement already satisfied: frozenlist>=1.1.1 in /usr/local/lib/python3.12/dist-packages (from aiohttp!=4.0.0a0,!=4.0.0a1->fsspec[http]<=2025.3.0,>=2023.1.0->datasets) (1.8.0)\n",
            "Requirement already satisfied: multidict<7.0,>=4.5 in /usr/local/lib/python3.12/dist-packages (from aiohttp!=4.0.0a0,!=4.0.0a1->fsspec[http]<=2025.3.0,>=2023.1.0->datasets) (6.7.0)\n",
            "Requirement already satisfied: propcache>=0.2.0 in /usr/local/lib/python3.12/dist-packages (from aiohttp!=4.0.0a0,!=4.0.0a1->fsspec[http]<=2025.3.0,>=2023.1.0->datasets) (0.4.1)\n",
            "Requirement already satisfied: yarl<2.0,>=1.17.0 in /usr/local/lib/python3.12/dist-packages (from aiohttp!=4.0.0a0,!=4.0.0a1->fsspec[http]<=2025.3.0,>=2023.1.0->datasets) (1.22.0)\n"
          ]
        }
      ]
    },
    {
      "cell_type": "code",
      "source": [
        "import pandas as pd\n",
        "import numpy as np\n",
        "from sklearn.ensemble import RandomForestClassifier\n",
        "from sklearn.preprocessing import LabelEncoder\n",
        "from sklearn.model_selection import train_test_split\n",
        "from sklearn.metrics import accuracy_score\n",
        "\n",
        "\n",
        "file_path = \"/content/legacy_pantheon.tsv.bz2\"\n",
        "df = pd.read_csv(file_path, sep=\"\\t\", dtype=str)\n",
        "print(\"Dataset loaded, shape:\", df.shape)\n",
        "print(df.head())\n",
        "\n",
        "features = [\"gender\", \"birthyear\", \"countryCode\"]\n",
        "target = \"domain\"\n",
        "\n",
        "df2 = df.dropna(subset=features + [target])\n",
        "df2[\"birthyear\"] = pd.to_numeric(df2[\"birthyear\"], errors=\"coerce\")\n",
        "df2 = df2.dropna(subset=[\"birthyear\"])\n",
        "df2 = df2.sample(n=5000, random_state=42)\n",
        "print(\"After cleaning & sampling:\", df2.shape)\n",
        "\n",
        "le_target = LabelEncoder()\n",
        "df2[\"target_label\"] = le_target.fit_transform(df2[target])\n",
        "\n",
        "\n",
        "le_gender = LabelEncoder()\n",
        "df2[\"gender_enc\"] = le_gender.fit_transform(df2[\"gender\"])\n",
        "\n",
        "le_country = LabelEncoder()\n",
        "df2[\"country_enc\"] = le_country.fit_transform(df2[\"countryCode\"])\n",
        "\n",
        "df2[\"birthyear_norm\"] = (df2[\"birthyear\"] - df2[\"birthyear\"].mean()) / df2[\"birthyear\"].std()\n",
        "\n",
        "X = df2[[\"gender_enc\", \"country_enc\", \"birthyear_norm\"]].values.astype(\"float32\")\n",
        "y = df2[\"target_label\"].values.astype(\"int32\")\n",
        "\n",
        "\n",
        "X_train, X_test, y_train, y_test = train_test_split(\n",
        "    X, y, test_size=0.3, random_state=42, stratify=y\n",
        ")\n",
        "\n",
        "\n",
        "rf = RandomForestClassifier(n_estimators=200, max_depth=10, random_state=42)\n",
        "rf.fit(X_train, y_train)\n",
        "\n",
        "\n",
        "y_pred = rf.predict(X_test)\n",
        "top1_acc = accuracy_score(y_test, y_pred)\n",
        "print(f\"Top-1 Accuracy: {top1_acc:.4f}\")\n",
        "\n",
        "y_proba = rf.predict_proba(X_test)\n",
        "\n",
        "top3_acc = np.mean([\n",
        "    y_test[i] in np.argsort(y_proba[i])[-3:]\n",
        "    for i in range(len(y_test))\n",
        "])\n",
        "print(f\"Top-3 Accuracy: {top3_acc:.4f}\")\n",
        "\n",
        "\n",
        "def akinator_guess(model, le_target, gender, countryCode, birthyear):\n",
        "    g = le_gender.transform([gender])[0] if gender in le_gender.classes_ else -1\n",
        "    c = le_country.transform([countryCode])[0] if countryCode in le_country.classes_ else -1\n",
        "    by_norm = (birthyear - df2[\"birthyear\"].mean()) / df2[\"birthyear\"].std()\n",
        "    x = np.array([[g, c, by_norm]], dtype=\"float32\")\n",
        "    probs = model.predict_proba(x)[0]\n",
        "    idxs = np.argsort(probs)[::-1]\n",
        "    print(\" Model guesses:\")\n",
        "    for rank, idx in enumerate(idxs[:3]):\n",
        "        print(f\"{rank+1}. {le_target.inverse_transform([idx])[0]} (p={probs[idx]:.3f})\")\n",
        "\n",
        "\n",
        "akinator_guess(rf, le_target, gender=\"male\", countryCode=\"US\", birthyear=1970)\n"
      ],
      "metadata": {
        "colab": {
          "base_uri": "https://localhost:8080/"
        },
        "id": "R8WTUYsVLqqD",
        "outputId": "2bcf96c5-2401-42c8-bf77-27e6c38c5b8a"
      },
      "execution_count": 12,
      "outputs": [
        {
          "output_type": "stream",
          "name": "stdout",
          "text": [
            "Dataset loaded, shape: (11341, 23)\n",
            "  en_curid             name numlangs         birthcity birthstate  \\\n",
            "0      307  Abraham Lincoln      131       Hodgenville         KY   \n",
            "1      308        Aristotle      152          Stageira        NaN   \n",
            "2      339         Ayn Rand       55  Saint Petersburg        NaN   \n",
            "3      595     Andre Agassi       69         Las Vegas         NV   \n",
            "4      628    Aldous Huxley       62         Godalming        NaN   \n",
            "\n",
            "      countryName countryCode countryCode3        LAT          LON  ...  \\\n",
            "0   UNITED STATES          US          USA  37.571111   -85.738611  ...   \n",
            "1          Greece          GR          GRC  40.333333         23.5  ...   \n",
            "2          Russia          RU          RUS      59.95         30.3  ...   \n",
            "3   UNITED STATES          US          USA  36.121514  -115.173851  ...   \n",
            "4  UNITED KINGDOM          GB          GBR     51.185        -0.61  ...   \n",
            "\n",
            "      occupation           industry        domain TotalPageViews       L_star  \\\n",
            "0     POLITICIAN         GOVERNMENT  INSTITUTIONS       66145211  5.801386687   \n",
            "1    PHILOSOPHER         PHILOSOPHY    HUMANITIES       56355172  11.91459682   \n",
            "2         WRITER           LANGUAGE    HUMANITIES       14208218  3.175684852   \n",
            "3  TENNIS PLAYER  INDIVIDUAL SPORTS        SPORTS       11244030  6.242524524   \n",
            "4         WRITER           LANGUAGE    HUMANITIES        9268920  6.219842058   \n",
            "\n",
            "  StdDevPageViews PageViewsEnglish PageViewsNonEnglish AverageViews  \\\n",
            "0      586914.722         41477236            24667975  504925.2748   \n",
            "1     201067.4607         15745351            40609821  370757.7105   \n",
            "2      87632.4902         11023490             3184728  258331.2364   \n",
            "3      85553.3181          6353888             4890142  162956.9565   \n",
            "4     33037.03209          5137256             4131664  149498.7097   \n",
            "\n",
            "           HPI  \n",
            "0  27.93858549  \n",
            "1  31.99379508  \n",
            "2  24.32593556  \n",
            "3  20.92599929  \n",
            "4  25.99660548  \n",
            "\n",
            "[5 rows x 23 columns]\n",
            "After cleaning & sampling: (5000, 23)\n"
          ]
        },
        {
          "output_type": "stream",
          "name": "stderr",
          "text": [
            "/tmp/ipython-input-1269475406.py:31: SettingWithCopyWarning: \n",
            "A value is trying to be set on a copy of a slice from a DataFrame.\n",
            "Try using .loc[row_indexer,col_indexer] = value instead\n",
            "\n",
            "See the caveats in the documentation: https://pandas.pydata.org/pandas-docs/stable/user_guide/indexing.html#returning-a-view-versus-a-copy\n",
            "  df2[\"birthyear\"] = pd.to_numeric(df2[\"birthyear\"], errors=\"coerce\")\n"
          ]
        },
        {
          "output_type": "stream",
          "name": "stdout",
          "text": [
            "Top-1 Accuracy: 0.5253\n",
            "Top-3 Accuracy: 0.8620\n",
            "🔮 Model guesses:\n",
            "1. ARTS (p=0.991)\n",
            "2. SPORTS (p=0.004)\n",
            "3. PUBLIC FIGURE (p=0.002)\n"
          ]
        }
      ]
    }
  ]
}