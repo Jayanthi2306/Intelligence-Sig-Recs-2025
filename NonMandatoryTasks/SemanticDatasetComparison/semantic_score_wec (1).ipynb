{
  "nbformat": 4,
  "nbformat_minor": 0,
  "metadata": {
    "colab": {
      "provenance": [],
      "gpuType": "T4"
    },
    "kernelspec": {
      "name": "python3",
      "display_name": "Python 3"
    },
    "language_info": {
      "name": "python"
    },
    "accelerator": "GPU"
  },
  "cells": [
    {
      "cell_type": "code",
      "source": [
        "!pip install torch torchvision datasets scikit-learn matplotlib tqdm --quiet\n"
      ],
      "metadata": {
        "id": "DvrICleNkD-F"
      },
      "execution_count": null,
      "outputs": []
    },
    {
      "cell_type": "code",
      "source": [
        "import torch\n",
        "import torch.nn as nn\n",
        "from torch.utils.data import DataLoader, Subset\n",
        "from torchvision import datasets, transforms, models\n",
        "from sklearn.metrics.pairwise import cosine_similarity\n",
        "import matplotlib.pyplot as plt\n",
        "import numpy as np\n",
        "from datasets import load_dataset\n",
        "from tqdm import tqdm\n",
        "from scipy.linalg import sqrtm\n",
        "import random\n",
        "from PIL import Image\n",
        "\n",
        "\n",
        "class ResNetFeatureExtractor(nn.Module):\n",
        "    def __init__(self):\n",
        "        super().__init__()\n",
        "        model = models.resnet50(weights=models.ResNet50_Weights.IMAGENET1K_V2)\n",
        "        self.features = nn.Sequential(*list(model.children())[:-1])\n",
        "        self.features.eval()\n",
        "\n",
        "    def forward(self, x):\n",
        "        with torch.no_grad():\n",
        "            x = self.features(x)\n",
        "        return x.view(x.size(0), -1)\n",
        "\n",
        "device = torch.device(\"cuda\" if torch.cuda.is_available() else \"cpu\")\n",
        "model = ResNetFeatureExtractor().to(device)\n",
        "\n",
        "def extract_features(dataloader, model, device):\n",
        "    features = []\n",
        "    labels = []\n",
        "    with torch.no_grad():\n",
        "        for images, lbls in tqdm(dataloader, desc=\"Extracting Features\"):\n",
        "            images = images.to(device)\n",
        "            output = model(images)\n",
        "            features.append(output.cpu().numpy())\n",
        "            labels.extend(lbls)\n",
        "    return np.concatenate(features), np.array(labels)"
      ],
      "metadata": {
        "id": "mCRV37t67Ct0"
      },
      "execution_count": null,
      "outputs": []
    },
    {
      "cell_type": "markdown",
      "source": [
        "Function for finding cosine similarity"
      ],
      "metadata": {
        "id": "twTve-GB5SBm"
      }
    },
    {
      "cell_type": "code",
      "source": [
        "def cosine_dataset_similarity(features_A, features_B):\n",
        "    mean_A = np.mean(features_A, axis=0)\n",
        "    mean_B = np.mean(features_B, axis=0)\n",
        "    return cosine_similarity([mean_A], [mean_B])[0][0]"
      ],
      "metadata": {
        "id": "xc5zld6p458u"
      },
      "execution_count": null,
      "outputs": []
    },
    {
      "cell_type": "markdown",
      "source": [
        "Function for finding Fid score"
      ],
      "metadata": {
        "id": "zoC72hO75WnT"
      }
    },
    {
      "cell_type": "code",
      "source": [
        "\n",
        "def fid_like_score(features_A, features_B):\n",
        "    mu1, sigma1 = np.mean(features_A, axis=0), np.cov(features_A, rowvar=False)\n",
        "    mu2, sigma2 = np.mean(features_B, axis=0), np.cov(features_B, rowvar=False)\n",
        "    diff = mu1 - mu2\n",
        "    covmean = sqrtm(sigma1.dot(sigma2))\n",
        "    if np.iscomplexobj(covmean):\n",
        "        covmean = covmean.real\n",
        "    return diff.dot(diff) + np.trace(sigma1 + sigma2 - 2 * covmean)"
      ],
      "metadata": {
        "id": "mJEWWeHQ5WJZ"
      },
      "execution_count": null,
      "outputs": []
    },
    {
      "cell_type": "markdown",
      "source": [
        "Plotting heat map for different classes of ciphar10 by using cosine similarity score"
      ],
      "metadata": {
        "id": "EMTmgDKY5q7U"
      }
    },
    {
      "cell_type": "code",
      "source": [
        "\n",
        "def plot_heatmap(matrix, labels, title=\"Similarity Heatmap\"):\n",
        "    plt.figure(figsize=(8, 6))\n",
        "    plt.imshow(matrix, cmap='viridis')\n",
        "    plt.xticks(range(len(labels)), labels, rotation=45)\n",
        "    plt.yticks(range(len(labels)), labels)\n",
        "    plt.colorbar(label=\"Cosine Similarity\")\n",
        "    plt.title(title)\n",
        "    plt.show()"
      ],
      "metadata": {
        "id": "9I6K2t4N5qEX"
      },
      "execution_count": null,
      "outputs": []
    },
    {
      "cell_type": "markdown",
      "source": [
        "Tranforming the data (images) for the corresponding shape of resnet50."
      ],
      "metadata": {
        "id": "huxZMv4_53wZ"
      }
    },
    {
      "cell_type": "code",
      "source": [
        "transform = transforms.Compose([\n",
        "    transforms.Resize((224, 224)),\n",
        "    transforms.ToTensor(),\n",
        "    transforms.Normalize(mean=[0.485, 0.456, 0.406],\n",
        "                         std=[0.229, 0.224, 0.225])\n",
        "])"
      ],
      "metadata": {
        "id": "F7P1eHlA53Wp"
      },
      "execution_count": null,
      "outputs": []
    },
    {
      "cell_type": "markdown",
      "source": [
        "Experiment-1 :\n",
        " finding similarity score and fid score for ciphar10"
      ],
      "metadata": {
        "id": "JNaFdQf96FAD"
      }
    },
    {
      "cell_type": "code",
      "source": [
        "cifar10 = datasets.CIFAR10(root=\"./data\", download=True, train=True, transform=transform)\n",
        "classes = cifar10.classes\n",
        "print(\"\\nCIFAR-10 Classes:\", classes)\n",
        "\n",
        "def get_class_subset(dataset, class_idx, n=200):\n",
        "    indices = [i for i, (_, label) in enumerate(dataset) if label == class_idx]\n",
        "    return Subset(dataset, random.sample(indices, n))\n",
        "\n",
        "class_features = {}\n",
        "for i, cls in enumerate(classes):\n",
        "    subset = get_class_subset(cifar10, i)\n",
        "    loader = DataLoader(subset, batch_size=32, shuffle=False)\n",
        "    feats, _ = extract_features(loader, model, device)\n",
        "    class_features[cls] = feats\n",
        "\n",
        "sim_matrix = np.zeros((10, 10))\n",
        "for i in range(10):\n",
        "    for j in range(10):\n",
        "        sim_matrix[i, j] = cosine_dataset_similarity(class_features[classes[i]], class_features[classes[j]])\n",
        "\n",
        "plot_heatmap(sim_matrix, classes, title=\"CIFAR-10 Semantic Similarity (ResNet50)\")"
      ],
      "metadata": {
        "id": "laHTcfJf6Epb"
      },
      "execution_count": null,
      "outputs": []
    },
    {
      "cell_type": "markdown",
      "source": [
        "Experiment -2:\n",
        "     finding similairty and fid score for cifake real and fake data.  preprocessing using integer labels: 0 = REAL, 1 = FAKE"
      ],
      "metadata": {
        "id": "emLdBV3A6dkd"
      }
    },
    {
      "cell_type": "code",
      "source": [
        "cifake = load_dataset(\"dragonintelligence/CIFAKE-image-dataset\")\n",
        "\n",
        "\n",
        "def preprocess_hf(dataset, label_int, n=500):\n",
        "    filtered = [x for x in dataset[\"train\"] if x[\"label\"] == label_int]\n",
        "    subset = filtered[:n]\n",
        "    if len(subset) == 0:\n",
        "        raise ValueError(f\"No images found for label {label_int}\")\n",
        "    images = [transform(x[\"image\"]) for x in subset]\n",
        "    labels = torch.zeros(len(images))\n",
        "    return list(zip(images, labels))\n",
        "\n",
        "real_subset = preprocess_hf(cifake, 0, n=500)\n",
        "fake_subset = preprocess_hf(cifake, 1, n=500)\n",
        "\n",
        "def create_loader(subset, batch_size=32):\n",
        "    images, labels = zip(*subset)\n",
        "    return DataLoader(list(zip(images, labels)), batch_size=batch_size, shuffle=False)\n",
        "\n",
        "real_loader = create_loader(real_subset)\n",
        "fake_loader = create_loader(fake_subset)\n",
        "\n",
        "real_feats, _ = extract_features(real_loader, model, device)\n",
        "fake_feats, _ = extract_features(fake_loader, model, device)\n",
        "\n",
        "cos_sim = cosine_dataset_similarity(real_feats, fake_feats)\n",
        "fid_score = fid_like_score(real_feats, fake_feats)\n",
        "\n",
        "\n",
        "print(f\"Cosine Semantic Similarity: {cos_sim:.4f}\")\n",
        "print(f\"FID-like Semantic Distance: {fid_score:.2f}\")"
      ],
      "metadata": {
        "id": "B5pK29yl6Wvf"
      },
      "execution_count": null,
      "outputs": []
    }
  ]
}